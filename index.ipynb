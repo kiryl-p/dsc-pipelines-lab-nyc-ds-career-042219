{
 "cells": [
  {
   "cell_type": "markdown",
   "metadata": {},
   "source": [
    "# Comparing Machine Learning Techniques Using Pipelines - Lab"
   ]
  },
  {
   "cell_type": "markdown",
   "metadata": {},
   "source": [
    "## Introduction"
   ]
  },
  {
   "cell_type": "markdown",
   "metadata": {},
   "source": [
    "In this lab, you'lll use a Dataset created by Otto group, which was also used in a [Kaggle competition](https://www.kaggle.com/c/otto-group-product-classification-challenge/data).\n",
    "\n",
    "The description of the data set is as follows:\n",
    "\n",
    "The Otto Group is one of the world’s biggest e-commerce companies, with subsidiaries in more than 20 countries, including Crate & Barrel (USA), Otto.de (Germany) and 3 Suisses (France). They are selling millions of products worldwide every day, with several thousand products being added to our product line.\n",
    "\n",
    "A consistent analysis of the performance of our products is crucial. However, due to their global infrastructure, many identical products get classified differently. Therefore, the quality of our product analysis depends heavily on the ability to accurately cluster similar products. The better the classification, the more insights Otto Group can generate about their product range.\n",
    "\n",
    "In this lab, you'll use a data set containing:\n",
    "- A column `id`, which is an anonymous id unique to a product\n",
    "- 93 columns `feat_1`, `feat_2`, ..., `feat_93`, which are the various features of a product\n",
    "- a column `target` - the class of a product\n"
   ]
  },
  {
   "cell_type": "markdown",
   "metadata": {},
   "source": [
    "## Objectives\n",
    "\n",
    "You will be able to:\n",
    "- Compare different classification techniques\n",
    "- Construct pipelines in scikit-learn\n",
    "- Use pipelines in combination with GridSearchCV"
   ]
  },
  {
   "cell_type": "markdown",
   "metadata": {},
   "source": [
    "## The Data Science Workflow"
   ]
  },
  {
   "cell_type": "markdown",
   "metadata": {},
   "source": [
    "You will be following the data science workflow:\n",
    "\n",
    "1. Initial data inspection, exploratory data analysis, and cleaning\n",
    "2. Feature engineering and selection\n",
    "3. create a baseline model\n",
    "4. create a machine learning pipeline and compare results with the baseline model\n",
    "5. Interpret the model and draw conclusions"
   ]
  },
  {
   "cell_type": "markdown",
   "metadata": {},
   "source": [
    "##  Initial data inspection, exploratory data analysis, and cleaning"
   ]
  },
  {
   "cell_type": "markdown",
   "metadata": {},
   "source": [
    "The data is stored in \"otto_group.csv\".\n",
    "\n",
    "Things to do here:\n",
    "- Check for NAs\n",
    "- Check the distributions\n",
    "- Check how many inputs there are\n",
    "- ..."
   ]
  },
  {
   "cell_type": "code",
   "execution_count": 1,
   "metadata": {},
   "outputs": [],
   "source": [
    "# Your code here\n",
    "import pandas as pd\n",
    "import numpy as np\n",
    "import matplotlib.pyplot as plt\n",
    "%matplotlib inline"
   ]
  },
  {
   "cell_type": "code",
   "execution_count": 3,
   "metadata": {},
   "outputs": [
    {
     "name": "stdout",
     "output_type": "stream",
     "text": [
      "<class 'pandas.core.frame.DataFrame'>\n",
      "RangeIndex: 61878 entries, 0 to 61877\n",
      "Data columns (total 95 columns):\n",
      "id         61878 non-null int64\n",
      "feat_1     61878 non-null int64\n",
      "feat_2     61878 non-null int64\n",
      "feat_3     61878 non-null int64\n",
      "feat_4     61878 non-null int64\n",
      "feat_5     61878 non-null int64\n",
      "feat_6     61878 non-null int64\n",
      "feat_7     61878 non-null int64\n",
      "feat_8     61878 non-null int64\n",
      "feat_9     61878 non-null int64\n",
      "feat_10    61878 non-null int64\n",
      "feat_11    61878 non-null int64\n",
      "feat_12    61878 non-null int64\n",
      "feat_13    61878 non-null int64\n",
      "feat_14    61878 non-null int64\n",
      "feat_15    61878 non-null int64\n",
      "feat_16    61878 non-null int64\n",
      "feat_17    61878 non-null int64\n",
      "feat_18    61878 non-null int64\n",
      "feat_19    61878 non-null int64\n",
      "feat_20    61878 non-null int64\n",
      "feat_21    61878 non-null int64\n",
      "feat_22    61878 non-null int64\n",
      "feat_23    61878 non-null int64\n",
      "feat_24    61878 non-null int64\n",
      "feat_25    61878 non-null int64\n",
      "feat_26    61878 non-null int64\n",
      "feat_27    61878 non-null int64\n",
      "feat_28    61878 non-null int64\n",
      "feat_29    61878 non-null int64\n",
      "feat_30    61878 non-null int64\n",
      "feat_31    61878 non-null int64\n",
      "feat_32    61878 non-null int64\n",
      "feat_33    61878 non-null int64\n",
      "feat_34    61878 non-null int64\n",
      "feat_35    61878 non-null int64\n",
      "feat_36    61878 non-null int64\n",
      "feat_37    61878 non-null int64\n",
      "feat_38    61878 non-null int64\n",
      "feat_39    61878 non-null int64\n",
      "feat_40    61878 non-null int64\n",
      "feat_41    61878 non-null int64\n",
      "feat_42    61878 non-null int64\n",
      "feat_43    61878 non-null int64\n",
      "feat_44    61878 non-null int64\n",
      "feat_45    61878 non-null int64\n",
      "feat_46    61878 non-null int64\n",
      "feat_47    61878 non-null int64\n",
      "feat_48    61878 non-null int64\n",
      "feat_49    61878 non-null int64\n",
      "feat_50    61878 non-null int64\n",
      "feat_51    61878 non-null int64\n",
      "feat_52    61878 non-null int64\n",
      "feat_53    61878 non-null int64\n",
      "feat_54    61878 non-null int64\n",
      "feat_55    61878 non-null int64\n",
      "feat_56    61878 non-null int64\n",
      "feat_57    61878 non-null int64\n",
      "feat_58    61878 non-null int64\n",
      "feat_59    61878 non-null int64\n",
      "feat_60    61878 non-null int64\n",
      "feat_61    61878 non-null int64\n",
      "feat_62    61878 non-null int64\n",
      "feat_63    61878 non-null int64\n",
      "feat_64    61878 non-null int64\n",
      "feat_65    61878 non-null int64\n",
      "feat_66    61878 non-null int64\n",
      "feat_67    61878 non-null int64\n",
      "feat_68    61878 non-null int64\n",
      "feat_69    61878 non-null int64\n",
      "feat_70    61878 non-null int64\n",
      "feat_71    61878 non-null int64\n",
      "feat_72    61878 non-null int64\n",
      "feat_73    61878 non-null int64\n",
      "feat_74    61878 non-null int64\n",
      "feat_75    61878 non-null int64\n",
      "feat_76    61878 non-null int64\n",
      "feat_77    61878 non-null int64\n",
      "feat_78    61878 non-null int64\n",
      "feat_79    61878 non-null int64\n",
      "feat_80    61878 non-null int64\n",
      "feat_81    61878 non-null int64\n",
      "feat_82    61878 non-null int64\n",
      "feat_83    61878 non-null int64\n",
      "feat_84    61878 non-null int64\n",
      "feat_85    61878 non-null int64\n",
      "feat_86    61878 non-null int64\n",
      "feat_87    61878 non-null int64\n",
      "feat_88    61878 non-null int64\n",
      "feat_89    61878 non-null int64\n",
      "feat_90    61878 non-null int64\n",
      "feat_91    61878 non-null int64\n",
      "feat_92    61878 non-null int64\n",
      "feat_93    61878 non-null int64\n",
      "target     61878 non-null object\n",
      "dtypes: int64(94), object(1)\n",
      "memory usage: 44.8+ MB\n",
      "None\n",
      "           count          mean           std  min       25%      50%  \\\n",
      "id       61878.0  30939.500000  17862.784315  1.0  15470.25  30939.5   \n",
      "feat_1   61878.0      0.386680      1.525330  0.0      0.00      0.0   \n",
      "feat_2   61878.0      0.263066      1.252073  0.0      0.00      0.0   \n",
      "feat_3   61878.0      0.901467      2.934818  0.0      0.00      0.0   \n",
      "feat_4   61878.0      0.779081      2.788005  0.0      0.00      0.0   \n",
      "feat_5   61878.0      0.071043      0.438902  0.0      0.00      0.0   \n",
      "feat_6   61878.0      0.025696      0.215333  0.0      0.00      0.0   \n",
      "feat_7   61878.0      0.193704      1.030102  0.0      0.00      0.0   \n",
      "feat_8   61878.0      0.662433      2.255770  0.0      0.00      0.0   \n",
      "feat_9   61878.0      1.011296      3.474822  0.0      0.00      0.0   \n",
      "feat_10  61878.0      0.263906      1.083340  0.0      0.00      0.0   \n",
      "feat_11  61878.0      1.252869      3.042333  0.0      0.00      0.0   \n",
      "feat_12  61878.0      0.140874      0.567089  0.0      0.00      0.0   \n",
      "feat_13  61878.0      0.480979      2.014697  0.0      0.00      0.0   \n",
      "feat_14  61878.0      1.696693      3.163212  0.0      0.00      0.0   \n",
      "feat_15  61878.0      1.284398      3.862236  0.0      0.00      0.0   \n",
      "feat_16  61878.0      1.413459      2.226163  0.0      0.00      0.0   \n",
      "feat_17  61878.0      0.366108      1.477436  0.0      0.00      0.0   \n",
      "feat_18  61878.0      0.575423      1.335985  0.0      0.00      0.0   \n",
      "feat_19  61878.0      0.551699      4.636145  0.0      0.00      0.0   \n",
      "feat_20  61878.0      0.471525      1.438727  0.0      0.00      0.0   \n",
      "feat_21  61878.0      0.204014      0.696050  0.0      0.00      0.0   \n",
      "feat_22  61878.0      0.729969      1.446220  0.0      0.00      0.0   \n",
      "feat_23  61878.0      0.142522      0.782979  0.0      0.00      0.0   \n",
      "feat_24  61878.0      2.643880      4.629015  0.0      0.00      1.0   \n",
      "feat_25  61878.0      1.534520      2.332994  0.0      0.00      1.0   \n",
      "feat_26  61878.0      0.563108      1.710305  0.0      0.00      0.0   \n",
      "feat_27  61878.0      0.696613      2.873222  0.0      0.00      0.0   \n",
      "feat_28  61878.0      0.238970      0.828112  0.0      0.00      0.0   \n",
      "feat_29  61878.0      0.275768      1.901294  0.0      0.00      0.0   \n",
      "...          ...           ...           ...  ...       ...      ...   \n",
      "feat_64  61878.0      1.256796      3.402080  0.0      0.00      0.0   \n",
      "feat_65  61878.0      0.222228      0.783052  0.0      0.00      0.0   \n",
      "feat_66  61878.0      0.571706      1.361874  0.0      0.00      0.0   \n",
      "feat_67  61878.0      2.897653      4.974322  0.0      0.00      1.0   \n",
      "feat_68  61878.0      0.392902      1.761054  0.0      0.00      0.0   \n",
      "feat_69  61878.0      0.811128      4.111091  0.0      0.00      0.0   \n",
      "feat_70  61878.0      0.892789      1.941368  0.0      0.00      0.0   \n",
      "feat_71  61878.0      0.319290      1.162443  0.0      0.00      0.0   \n",
      "feat_72  61878.0      0.858722      2.411646  0.0      0.00      0.0   \n",
      "feat_73  61878.0      0.591050      5.783233  0.0      0.00      0.0   \n",
      "feat_74  61878.0      0.579851      3.757822  0.0      0.00      0.0   \n",
      "feat_75  61878.0      0.726817      3.200095  0.0      0.00      0.0   \n",
      "feat_76  61878.0      0.748457      2.920038  0.0      0.00      0.0   \n",
      "feat_77  61878.0      0.124196      0.906621  0.0      0.00      0.0   \n",
      "feat_78  61878.0      0.366415      2.778317  0.0      0.00      0.0   \n",
      "feat_79  61878.0      0.300446      1.285569  0.0      0.00      0.0   \n",
      "feat_80  61878.0      0.698067      2.245671  0.0      0.00      0.0   \n",
      "feat_81  61878.0      0.078461      0.461244  0.0      0.00      0.0   \n",
      "feat_82  61878.0      0.187983      0.836269  0.0      0.00      0.0   \n",
      "feat_83  61878.0      0.496719      2.434921  0.0      0.00      0.0   \n",
      "feat_84  61878.0      0.070752      1.151460  0.0      0.00      0.0   \n",
      "feat_85  61878.0      0.532306      1.900438  0.0      0.00      0.0   \n",
      "feat_86  61878.0      1.128576      2.681554  0.0      0.00      0.0   \n",
      "feat_87  61878.0      0.393549      1.575455  0.0      0.00      0.0   \n",
      "feat_88  61878.0      0.874915      2.115466  0.0      0.00      0.0   \n",
      "feat_89  61878.0      0.457772      1.527385  0.0      0.00      0.0   \n",
      "feat_90  61878.0      0.812421      4.597804  0.0      0.00      0.0   \n",
      "feat_91  61878.0      0.264941      2.045646  0.0      0.00      0.0   \n",
      "feat_92  61878.0      0.380119      0.982385  0.0      0.00      0.0   \n",
      "feat_93  61878.0      0.126135      1.201720  0.0      0.00      0.0   \n",
      "\n",
      "              75%      max  \n",
      "id       46408.75  61878.0  \n",
      "feat_1       0.00     61.0  \n",
      "feat_2       0.00     51.0  \n",
      "feat_3       0.00     64.0  \n",
      "feat_4       0.00     70.0  \n",
      "feat_5       0.00     19.0  \n",
      "feat_6       0.00     10.0  \n",
      "feat_7       0.00     38.0  \n",
      "feat_8       1.00     76.0  \n",
      "feat_9       0.00     43.0  \n",
      "feat_10      0.00     30.0  \n",
      "feat_11      1.00     38.0  \n",
      "feat_12      0.00     30.0  \n",
      "feat_13      0.00     72.0  \n",
      "feat_14      2.00     33.0  \n",
      "feat_15      1.00     46.0  \n",
      "feat_16      2.00     37.0  \n",
      "feat_17      0.00     43.0  \n",
      "feat_18      1.00     32.0  \n",
      "feat_19      0.00    121.0  \n",
      "feat_20      0.00     27.0  \n",
      "feat_21      0.00     14.0  \n",
      "feat_22      1.00     22.0  \n",
      "feat_23      0.00     64.0  \n",
      "feat_24      3.00    263.0  \n",
      "feat_25      2.00     30.0  \n",
      "feat_26      0.00     33.0  \n",
      "feat_27      0.00    123.0  \n",
      "feat_28      0.00     22.0  \n",
      "feat_29      0.00     69.0  \n",
      "...           ...      ...  \n",
      "feat_64      1.00     73.0  \n",
      "feat_65      0.00     38.0  \n",
      "feat_66      1.00     36.0  \n",
      "feat_67      4.00    104.0  \n",
      "feat_68      0.00    109.0  \n",
      "feat_69      0.00     76.0  \n",
      "feat_70      1.00     46.0  \n",
      "feat_71      0.00     31.0  \n",
      "feat_72      1.00     30.0  \n",
      "feat_73      0.00    352.0  \n",
      "feat_74      0.00    231.0  \n",
      "feat_75      0.00     80.0  \n",
      "feat_76      0.00    102.0  \n",
      "feat_77      0.00     29.0  \n",
      "feat_78      0.00     80.0  \n",
      "feat_79      0.00     25.0  \n",
      "feat_80      0.00     54.0  \n",
      "feat_81      0.00     26.0  \n",
      "feat_82      0.00     24.0  \n",
      "feat_83      0.00     79.0  \n",
      "feat_84      0.00     76.0  \n",
      "feat_85      0.00     55.0  \n",
      "feat_86      1.00     65.0  \n",
      "feat_87      0.00     67.0  \n",
      "feat_88      1.00     30.0  \n",
      "feat_89      0.00     61.0  \n",
      "feat_90      0.00    130.0  \n",
      "feat_91      0.00     52.0  \n",
      "feat_92      0.00     19.0  \n",
      "feat_93      0.00     87.0  \n",
      "\n",
      "[94 rows x 8 columns]\n"
     ]
    },
    {
     "name": "stdout",
     "output_type": "stream",
     "text": [
      "id         0\n",
      "feat_1     0\n",
      "feat_2     0\n",
      "feat_3     0\n",
      "feat_4     0\n",
      "feat_5     0\n",
      "feat_6     0\n",
      "feat_7     0\n",
      "feat_8     0\n",
      "feat_9     0\n",
      "feat_10    0\n",
      "feat_11    0\n",
      "feat_12    0\n",
      "feat_13    0\n",
      "feat_14    0\n",
      "feat_15    0\n",
      "feat_16    0\n",
      "feat_17    0\n",
      "feat_18    0\n",
      "feat_19    0\n",
      "feat_20    0\n",
      "feat_21    0\n",
      "feat_22    0\n",
      "feat_23    0\n",
      "feat_24    0\n",
      "feat_25    0\n",
      "feat_26    0\n",
      "feat_27    0\n",
      "feat_28    0\n",
      "feat_29    0\n",
      "          ..\n",
      "feat_65    0\n",
      "feat_66    0\n",
      "feat_67    0\n",
      "feat_68    0\n",
      "feat_69    0\n",
      "feat_70    0\n",
      "feat_71    0\n",
      "feat_72    0\n",
      "feat_73    0\n",
      "feat_74    0\n",
      "feat_75    0\n",
      "feat_76    0\n",
      "feat_77    0\n",
      "feat_78    0\n",
      "feat_79    0\n",
      "feat_80    0\n",
      "feat_81    0\n",
      "feat_82    0\n",
      "feat_83    0\n",
      "feat_84    0\n",
      "feat_85    0\n",
      "feat_86    0\n",
      "feat_87    0\n",
      "feat_88    0\n",
      "feat_89    0\n",
      "feat_90    0\n",
      "feat_91    0\n",
      "feat_92    0\n",
      "feat_93    0\n",
      "target     0\n",
      "Length: 95, dtype: int64\n"
     ]
    }
   ],
   "source": [
    "data= pd.read_csv('otto_group.csv')\n",
    "print(data.info())\n",
    "print(data.describe().transpose())\n",
    "print(data.isnull().sum())"
   ]
  },
  {
   "cell_type": "code",
   "execution_count": null,
   "metadata": {},
   "outputs": [],
   "source": [
    "# Your code here"
   ]
  },
  {
   "cell_type": "code",
   "execution_count": null,
   "metadata": {},
   "outputs": [],
   "source": [
    "# Your code here"
   ]
  },
  {
   "cell_type": "code",
   "execution_count": null,
   "metadata": {},
   "outputs": [],
   "source": [
    "# Your code here"
   ]
  },
  {
   "cell_type": "code",
   "execution_count": null,
   "metadata": {},
   "outputs": [],
   "source": [
    "# Your code here"
   ]
  },
  {
   "cell_type": "code",
   "execution_count": null,
   "metadata": {},
   "outputs": [],
   "source": [
    "# Your code here"
   ]
  },
  {
   "cell_type": "markdown",
   "metadata": {},
   "source": [
    "If you look at all the histograms, you can tell that a lot of the data are zero-inflated, so most of the variables contain mostly zeros and then some higher values here and there. No normality, but for most machine learning techniques this is not an issue. "
   ]
  },
  {
   "cell_type": "code",
   "execution_count": null,
   "metadata": {},
   "outputs": [],
   "source": [
    "# Your code here"
   ]
  },
  {
   "cell_type": "markdown",
   "metadata": {},
   "source": [
    "Because the data is zero-inflated the boxplots look as shown above. Because there are this many zeroes, most values above zero will seem to be outliers. The safe decision for this data is to not delete any outliers and see what happens. With many 0s, sparse data is available and high values may be super informative. More-over, without having any intuitive meaning for each of the features, we don't know if a value of ~260 is actually an outlier."
   ]
  },
  {
   "cell_type": "code",
   "execution_count": null,
   "metadata": {},
   "outputs": [],
   "source": [
    "# Your code here"
   ]
  },
  {
   "cell_type": "markdown",
   "metadata": {},
   "source": [
    "## Feature engineering and selection with PCA"
   ]
  },
  {
   "cell_type": "markdown",
   "metadata": {},
   "source": [
    "Have a look at the correlation structure of your features using a heatmap."
   ]
  },
  {
   "cell_type": "code",
   "execution_count": null,
   "metadata": {},
   "outputs": [],
   "source": [
    "# Your code here"
   ]
  },
  {
   "cell_type": "markdown",
   "metadata": {},
   "source": [
    "Use PCA to downscale your features. Use PCA to select a number of features in a way that you still keep 80% of your explained variance."
   ]
  },
  {
   "cell_type": "code",
   "execution_count": null,
   "metadata": {},
   "outputs": [],
   "source": [
    "# Your code here"
   ]
  },
  {
   "cell_type": "code",
   "execution_count": null,
   "metadata": {},
   "outputs": [],
   "source": [
    "# Your code here"
   ]
  },
  {
   "cell_type": "markdown",
   "metadata": {},
   "source": [
    "## Create a train test split with a test size of 40%"
   ]
  },
  {
   "cell_type": "markdown",
   "metadata": {},
   "source": [
    "This is a relatively big training set. Feel free to make it smaller (down to ~20%), but for an initial run you can try smaller training sets so the computation time is more manageable.\n",
    "\n",
    "For now, simply use the original data and not the principal components. We looked at the PC's first to get a sense of our correlation structure, and to see how we can downsize our data without losing too much information. In what's next, you'll make PCA part of the pipeline!!"
   ]
  },
  {
   "cell_type": "code",
   "execution_count": null,
   "metadata": {},
   "outputs": [],
   "source": [
    "# Your code here"
   ]
  },
  {
   "cell_type": "code",
   "execution_count": null,
   "metadata": {},
   "outputs": [],
   "source": [
    "# Your code here"
   ]
  },
  {
   "cell_type": "markdown",
   "metadata": {},
   "source": [
    "## Create a baseline model"
   ]
  },
  {
   "cell_type": "markdown",
   "metadata": {},
   "source": [
    "Create your baseline model *in a pipeline setting*. In the pipeline\n",
    "- Your first step will be to scale your features down to the number of features that ensure you keep just 80% of your explained variance (which we saw before)\n",
    "- Your second step will be the building a basic logistic regression model.\n",
    "\n",
    "Make sure to fit the model using the training set, and test the result by obtaining the accuracy using the test set."
   ]
  },
  {
   "cell_type": "code",
   "execution_count": null,
   "metadata": {},
   "outputs": [],
   "source": [
    "# Your code here"
   ]
  },
  {
   "cell_type": "code",
   "execution_count": null,
   "metadata": {},
   "outputs": [],
   "source": [
    "# Your code here"
   ]
  },
  {
   "cell_type": "code",
   "execution_count": null,
   "metadata": {},
   "outputs": [],
   "source": [
    "# Your code here"
   ]
  },
  {
   "cell_type": "markdown",
   "metadata": {},
   "source": [
    "## Create a pipeline consisting of a linear SVM, a simple Decision Tree and a simple Random Forest Classifier"
   ]
  },
  {
   "cell_type": "markdown",
   "metadata": {},
   "source": [
    "Repeat the above, but now create three different pipelines:\n",
    "- One for a standard linear SCM\n",
    "- One for a default decision tree\n",
    "- One for a RandomForestClassifier"
   ]
  },
  {
   "cell_type": "code",
   "execution_count": null,
   "metadata": {},
   "outputs": [],
   "source": [
    "# Your code here"
   ]
  },
  {
   "cell_type": "markdown",
   "metadata": {},
   "source": [
    "## Pipeline with grid search"
   ]
  },
  {
   "cell_type": "markdown",
   "metadata": {},
   "source": [
    "Construct 3 pipelines with grid search\n",
    "- one for support vector machines - make sure your grid isn't too big. You'll see it takes quite a while to fit SVMs with non-linear kernel functions!\n",
    "- one for random forests - try to have around 40 different models\n",
    "- one for the adaboost algorithm. "
   ]
  },
  {
   "cell_type": "markdown",
   "metadata": {},
   "source": [
    "### SVM pipeline with grid search"
   ]
  },
  {
   "cell_type": "code",
   "execution_count": null,
   "metadata": {},
   "outputs": [],
   "source": [
    "# Your code here"
   ]
  },
  {
   "cell_type": "code",
   "execution_count": null,
   "metadata": {},
   "outputs": [],
   "source": [
    "# Your code here"
   ]
  },
  {
   "cell_type": "markdown",
   "metadata": {},
   "source": [
    "Use your grid search object along with `.cv_results` to get the full result overview"
   ]
  },
  {
   "cell_type": "code",
   "execution_count": null,
   "metadata": {},
   "outputs": [],
   "source": [
    "# Your code here"
   ]
  },
  {
   "cell_type": "markdown",
   "metadata": {},
   "source": [
    "### Random Forest pipeline with grid search"
   ]
  },
  {
   "cell_type": "code",
   "execution_count": null,
   "metadata": {},
   "outputs": [],
   "source": [
    "# Your code here"
   ]
  },
  {
   "cell_type": "code",
   "execution_count": null,
   "metadata": {},
   "outputs": [],
   "source": [
    "# Your code here"
   ]
  },
  {
   "cell_type": "markdown",
   "metadata": {},
   "source": [
    "## Adaboost"
   ]
  },
  {
   "cell_type": "code",
   "execution_count": null,
   "metadata": {},
   "outputs": [],
   "source": [
    "# Your code here"
   ]
  },
  {
   "cell_type": "markdown",
   "metadata": {},
   "source": [
    "## Note\n",
    "\n",
    "Note that this solution is only one of many options. The results in the Random Forest and Adaboost models show that there is a lot of improvement possible tuning the hyperparameters further, so make sure to explore this yourself!"
   ]
  },
  {
   "cell_type": "markdown",
   "metadata": {},
   "source": [
    "## Summary \n",
    "\n",
    "Great! You now got a lot of practice in. What algorithm would you choose and why?"
   ]
  }
 ],
 "metadata": {
  "kernelspec": {
   "display_name": "Python 3",
   "language": "python",
   "name": "python3"
  },
  "language_info": {
   "codemirror_mode": {
    "name": "ipython",
    "version": 3
   },
   "file_extension": ".py",
   "mimetype": "text/x-python",
   "name": "python",
   "nbconvert_exporter": "python",
   "pygments_lexer": "ipython3",
   "version": "3.6.6"
  }
 },
 "nbformat": 4,
 "nbformat_minor": 2
}
